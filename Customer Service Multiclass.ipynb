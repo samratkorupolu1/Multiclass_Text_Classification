{
 "cells": [
  {
   "cell_type": "markdown",
   "metadata": {},
   "source": [
    "# <center>A4. Customer Service Query Classification</center>"
   ]
  },
  {
   "cell_type": "markdown",
   "metadata": {},
   "source": [
    "<h2><center>Contents Legend</center></h2>"
   ]
  },
  {
   "cell_type": "markdown",
   "metadata": {},
   "source": [
    "<center><a href= \"#1.-Dependencies\">Dependencies</a></center>\n",
    "<center><a href= \"#2.-Pre-processing-Dataset\">Pre-processing Dataset</a></center>\n",
    "<center><a href= \"#3.-Cleaning\">Cleaning</a></center>\n",
    "<center><a href= \"#4.-Data-Split\">Data Split</a></center>\n",
    "<center><a href= \"#5.-TFIDF-Vectorization-of-BOW\">TFIDF Vectorization of BOW</a></center>\n",
    "<center><a href= \"#6.-NaiveBayes-Classifier\">NaiveBayes Classifier</a></center>\n",
    "<center><a href= \"#7.-Random-Forest\">Random Forest</a></center>\n",
    "<center><a href= \"#8.-Neural-Network-Classifier\">Neural Network Classifier</a></center>\n",
    "<center><a href= \"#9.-Out-of-Sample-Test\">Out of Sample Test</a></center>"
   ]
  },
  {
   "cell_type": "markdown",
   "metadata": {},
   "source": [
    "## 1. Dependencies"
   ]
  },
  {
   "cell_type": "code",
   "execution_count": 7,
   "metadata": {},
   "outputs": [],
   "source": [
    "import pandas as pd\n",
    "import nltk\n",
    "from nltk.tokenize import regexp_tokenize\n",
    "from nltk.corpus import stopwords\n",
    "from nltk.stem import WordNetLemmatizer\n",
    "import numpy as np\n",
    "import seaborn as sns\n",
    "import matplotlib.pyplot as plt"
   ]
  },
  {
   "cell_type": "markdown",
   "metadata": {},
   "source": [
    "<a href= \"#A4.-Customer-Service-Query-Classification\">Back to Top</a>"
   ]
  },
  {
   "cell_type": "markdown",
   "metadata": {},
   "source": [
    "## 2. Pre-processing Dataset"
   ]
  },
  {
   "cell_type": "code",
   "execution_count": 8,
   "metadata": {},
   "outputs": [
    {
     "name": "stdout",
     "output_type": "stream",
     "text": [
      "Dataframe shape : (5000, 2)\n"
     ]
    },
    {
     "data": {
      "text/html": [
       "<div>\n",
       "<style scoped>\n",
       "    .dataframe tbody tr th:only-of-type {\n",
       "        vertical-align: middle;\n",
       "    }\n",
       "\n",
       "    .dataframe tbody tr th {\n",
       "        vertical-align: top;\n",
       "    }\n",
       "\n",
       "    .dataframe thead th {\n",
       "        text-align: right;\n",
       "    }\n",
       "</style>\n",
       "<table border=\"1\" class=\"dataframe\">\n",
       "  <thead>\n",
       "    <tr style=\"text-align: right;\">\n",
       "      <th></th>\n",
       "      <th>question</th>\n",
       "      <th>topic</th>\n",
       "    </tr>\n",
       "  </thead>\n",
       "  <tbody>\n",
       "    <tr>\n",
       "      <td>0</td>\n",
       "      <td>Hi! If I sign up for your email list, can I se...</td>\n",
       "      <td>Sales/Promotions</td>\n",
       "    </tr>\n",
       "    <tr>\n",
       "      <td>1</td>\n",
       "      <td>I'm going to be out of the country for about a...</td>\n",
       "      <td>Shipping</td>\n",
       "    </tr>\n",
       "    <tr>\n",
       "      <td>2</td>\n",
       "      <td>I was wondering if you'd be able to overnight ...</td>\n",
       "      <td>Shipping</td>\n",
       "    </tr>\n",
       "  </tbody>\n",
       "</table>\n",
       "</div>"
      ],
      "text/plain": [
       "                                            question             topic\n",
       "0  Hi! If I sign up for your email list, can I se...  Sales/Promotions\n",
       "1  I'm going to be out of the country for about a...          Shipping\n",
       "2  I was wondering if you'd be able to overnight ...          Shipping"
      ]
     },
     "execution_count": 8,
     "metadata": {},
     "output_type": "execute_result"
    }
   ],
   "source": [
    "# importing csv into a dataframe\n",
    "df = pd.read_csv(\"Customer_Service_Questions_Multiclass.csv\")\n",
    "print(\"Dataframe shape :\", df.shape)\n",
    "df.head(3)"
   ]
  },
  {
   "cell_type": "code",
   "execution_count": 9,
   "metadata": {},
   "outputs": [
    {
     "data": {
      "text/plain": [
       "Product Specifications    839\n",
       "Product Availability      833\n",
       "Product Comparison        806\n",
       "Shipping                  799\n",
       "Returns & Refunds         768\n",
       "Sales/Promotions          505\n",
       "Omnichannel               450\n",
       "Name: topic, dtype: int64"
      ]
     },
     "execution_count": 9,
     "metadata": {},
     "output_type": "execute_result"
    }
   ],
   "source": [
    "#let's explore Target variable 'topic'\n",
    "#set(df['topic'])\n",
    "df['topic'].value_counts()"
   ]
  },
  {
   "cell_type": "code",
   "execution_count": 10,
   "metadata": {},
   "outputs": [
    {
     "data": {
      "image/png": "[encoded data removed]",
      "text/plain": [
       "<Figure size 720x360 with 1 Axes>"
      ]
     },
     "metadata": {
      "needs_background": "light"
     },
     "output_type": "display_data"
    }
   ],
   "source": [
    "xyz = df['topic'].value_counts().plot(kind='barh', figsize=(10,5), color=\"grey\", fontsize=12)\n",
    "xyz.set_title(\"Questions per topic\", fontsize=20)\n",
    "xyz.set_ylabel(\"Topic\", fontsize=15);\n",
    "xyz.set_xlabel(\"Questions\", fontsize=15);"
   ]
  },
  {
   "cell_type": "markdown",
   "metadata": {},
   "source": [
    "<a href= \"#A4.-Customer-Service-Query-Classification\">Back to Top</a>"
   ]
  },
  {
   "cell_type": "markdown",
   "metadata": {},
   "source": [
    "## 3. Cleaning"
   ]
  },
  {
   "cell_type": "code",
   "execution_count": 11,
   "metadata": {},
   "outputs": [],
   "source": [
    "lemmatizer = WordNetLemmatizer()\n",
    "clean_question = []\n",
    "for q in df['question']:\n",
    "    que = regexp_tokenize(q.lower(), r'[A-Za-z]+')\n",
    "    que = [w for w in que if len(w)>1 and w not in stopwords.words('english')]\n",
    "    que = [lemmatizer.lemmatize(w) for w in que]\n",
    "    clean_question.append(' '.join(que))"
   ]
  },
  {
   "cell_type": "code",
   "execution_count": 12,
   "metadata": {},
   "outputs": [
    {
     "data": {
      "text/html": [
       "<div>\n",
       "<style scoped>\n",
       "    .dataframe tbody tr th:only-of-type {\n",
       "        vertical-align: middle;\n",
       "    }\n",
       "\n",
       "    .dataframe tbody tr th {\n",
       "        vertical-align: top;\n",
       "    }\n",
       "\n",
       "    .dataframe thead th {\n",
       "        text-align: right;\n",
       "    }\n",
       "</style>\n",
       "<table border=\"1\" class=\"dataframe\">\n",
       "  <thead>\n",
       "    <tr style=\"text-align: right;\">\n",
       "      <th></th>\n",
       "      <th>question</th>\n",
       "      <th>topic</th>\n",
       "      <th>clean_question</th>\n",
       "    </tr>\n",
       "  </thead>\n",
       "  <tbody>\n",
       "    <tr>\n",
       "      <td>0</td>\n",
       "      <td>Hi! If I sign up for your email list, can I se...</td>\n",
       "      <td>Sales/Promotions</td>\n",
       "      <td>hi sign email list select get email exclusivel...</td>\n",
       "    </tr>\n",
       "  </tbody>\n",
       "</table>\n",
       "</div>"
      ],
      "text/plain": [
       "                                            question             topic  \\\n",
       "0  Hi! If I sign up for your email list, can I se...  Sales/Promotions   \n",
       "\n",
       "                                      clean_question  \n",
       "0  hi sign email list select get email exclusivel...  "
      ]
     },
     "execution_count": 12,
     "metadata": {},
     "output_type": "execute_result"
    }
   ],
   "source": [
    "df['clean_question'] = clean_question\n",
    "df.head(1)"
   ]
  },
  {
   "cell_type": "markdown",
   "metadata": {},
   "source": [
    "<a href= \"#A4.-Customer-Service-Query-Classification\">Back to Top</a>"
   ]
  },
  {
   "cell_type": "markdown",
   "metadata": {},
   "source": [
    "## 4. Data Split"
   ]
  },
  {
   "cell_type": "code",
   "execution_count": 13,
   "metadata": {},
   "outputs": [],
   "source": [
    "# Splitting data into train and test \n",
    "from sklearn.model_selection import train_test_split\n",
    "train_x, test_x, train_y, test_y = train_test_split(df['clean_question'],df['topic'],stratify=df['topic'], test_size=0.2, random_state=42)"
   ]
  },
  {
   "cell_type": "code",
   "execution_count": 14,
   "metadata": {},
   "outputs": [],
   "source": [
    "#converting 'topic' column into categorical using encoder\n",
    "from sklearn.preprocessing import LabelEncoder\n",
    "enc = LabelEncoder()\n",
    "\n",
    "train_y = enc.fit_transform(train_y)\n",
    "test_y = enc.transform(test_y)\n",
    "\n",
    "topics = enc.inverse_transform(np.unique(train_y))"
   ]
  },
  {
   "cell_type": "code",
   "execution_count": 15,
   "metadata": {},
   "outputs": [
    {
     "name": "stdout",
     "output_type": "stream",
     "text": [
      "train_y after encoding :  [0 1 2 3 4 5 6]\n",
      "\n",
      "cross checking by decoding train_y :  ['Omnichannel' 'Product Availability' 'Product Comparison'\n",
      " 'Product Specifications' 'Returns & Refunds' 'Sales/Promotions'\n",
      " 'Shipping']\n"
     ]
    }
   ],
   "source": [
    "print('train_y after encoding : ',np.unique(train_y))\n",
    "print()\n",
    "print('cross checking by decoding train_y : ',topics)"
   ]
  },
  {
   "cell_type": "markdown",
   "metadata": {},
   "source": [
    "<a href= \"#A4.-Customer-Service-Query-Classification\">Back to Top</a>"
   ]
  },
  {
   "cell_type": "markdown",
   "metadata": {},
   "source": [
    "## 5. TFIDF Vectorization of BOW"
   ]
  },
  {
   "cell_type": "markdown",
   "metadata": {},
   "source": [
    "The rationale behind using TFIDS is to weigh co-occuraning words with n-gram in each document"
   ]
  },
  {
   "cell_type": "code",
   "execution_count": 16,
   "metadata": {},
   "outputs": [],
   "source": [
    "#TFIDF vectorizer with n-gram\n",
    "from sklearn.feature_extraction.text import TfidfVectorizer\n",
    "    \n",
    "tfidf_vect = TfidfVectorizer(analyzer='word', token_pattern=r'\\w{1,}',ngram_range=(2,3))\n",
    "tfidf_vect.fit(df['clean_question'])\n",
    "xtrain_tfidf =  tfidf_vect.transform(train_x)\n",
    "xtest_tfidf =  tfidf_vect.transform(test_x)"
   ]
  },
  {
   "cell_type": "code",
   "execution_count": 17,
   "metadata": {},
   "outputs": [
    {
     "data": {
      "text/plain": [
       "<1000x51284 sparse matrix of type '<class 'numpy.float64'>'\n",
       "\twith 25272 stored elements in Compressed Sparse Row format>"
      ]
     },
     "execution_count": 17,
     "metadata": {},
     "output_type": "execute_result"
    }
   ],
   "source": [
    "xtest_tfidf"
   ]
  },
  {
   "cell_type": "markdown",
   "metadata": {},
   "source": [
    "<a href= \"#A4.-Customer-Service-Query-Classification\">Back to Top</a>"
   ]
  },
  {
   "cell_type": "markdown",
   "metadata": {},
   "source": [
    "## 6. NaiveBayes Classifier"
   ]
  },
  {
   "cell_type": "code",
   "execution_count": 18,
   "metadata": {},
   "outputs": [
    {
     "name": "stderr",
     "output_type": "stream",
     "text": [
      "C:\\Users\\samrat\\Anaconda3\\lib\\site-packages\\sklearn\\model_selection\\_split.py:1978: FutureWarning: The default value of cv will change from 3 to 5 in version 0.22. Specify it explicitly to silence this warning.\n",
      "  warnings.warn(CV_WARNING, FutureWarning)\n"
     ]
    },
    {
     "name": "stdout",
     "output_type": "stream",
     "text": [
      "Best Score:  0.9115\n",
      "Best Params:  {'alpha': 0.5, 'fit_prior': True}\n"
     ]
    }
   ],
   "source": [
    "#grid search for best hyperparameters\n",
    "from sklearn.naive_bayes import MultinomialNB\n",
    "from sklearn.model_selection import GridSearchCV\n",
    "grid_params = {\n",
    "  'alpha': np.linspace(0.5, 1.5, 6),\n",
    "  'fit_prior': [True, False], \n",
    "}\n",
    "clf = GridSearchCV(MultinomialNB(), grid_params)\n",
    "clf.fit(xtrain_tfidf, train_y)\n",
    "print(\"Best Score: \", clf.best_score_)\n",
    "print(\"Best Params: \", clf.best_params_)"
   ]
  },
  {
   "cell_type": "code",
   "execution_count": 19,
   "metadata": {},
   "outputs": [],
   "source": [
    "# Naive Bayes: N-Gram level TF-IDF and word2vec\n",
    "from sklearn.naive_bayes import MultinomialNB\n",
    "MultinomialNB = MultinomialNB(alpha= 0.5, fit_prior= True)\n",
    "MultinomialNB.fit(xtrain_tfidf,train_y)\n",
    "pred_y = MultinomialNB.predict(xtest_tfidf)"
   ]
  },
  {
   "cell_type": "markdown",
   "metadata": {},
   "source": [
    "## Metrics"
   ]
  },
  {
   "cell_type": "code",
   "execution_count": 20,
   "metadata": {},
   "outputs": [
    {
     "name": "stdout",
     "output_type": "stream",
     "text": [
      "               classification_report\n",
      "               precision    recall  f1-score   support\n",
      "\n",
      "           0       1.00      0.97      0.98        90\n",
      "           1       0.86      0.95      0.90       167\n",
      "           2       0.94      0.84      0.89       161\n",
      "           3       0.85      0.88      0.87       168\n",
      "           4       0.96      0.99      0.98       153\n",
      "           5       1.00      0.90      0.95       101\n",
      "           6       0.98      0.99      0.98       160\n",
      "\n",
      "    accuracy                           0.93      1000\n",
      "   macro avg       0.94      0.93      0.94      1000\n",
      "weighted avg       0.93      0.93      0.93      1000\n",
      "\n"
     ]
    }
   ],
   "source": [
    "from sklearn.metrics import confusion_matrix, classification_report \n",
    "print('               classification_report\\n',classification_report(test_y, pred_y))"
   ]
  },
  {
   "cell_type": "code",
   "execution_count": 34,
   "metadata": {},
   "outputs": [
    {
     "data": {
      "image/png": "[encoded data removed]",
      "text/plain": [
       "<Figure size 720x576 with 2 Axes>"
      ]
     },
     "metadata": {
      "needs_background": "light"
     },
     "output_type": "display_data"
    }
   ],
   "source": [
    "matrix = confusion_matrix(test_y, pred_y)\n",
    "fig, ax = plt.subplots(figsize=(10,8))\n",
    "\n",
    "sns.heatmap(matrix, annot=True, fmt='d', cmap=plt.cm.Blues, xticklabels = topics, yticklabels = topics)\n",
    "plt.ylabel('Actual', rotation = 90)\n",
    "plt.xlabel('Predicted')\n",
    "plt.title(\"CONFUSION MATRIX NB\")\n",
    "plt.show()"
   ]
  },
  {
   "cell_type": "markdown",
   "metadata": {},
   "source": [
    "<a href= \"#A4.-Customer-Service-Query-Classification\">Back to Top</a>"
   ]
  },
  {
   "cell_type": "markdown",
   "metadata": {},
   "source": [
    "## 7. Random Forest"
   ]
  },
  {
   "cell_type": "code",
   "execution_count": 22,
   "metadata": {},
   "outputs": [
    {
     "name": "stderr",
     "output_type": "stream",
     "text": [
      "C:\\Users\\samrat\\Anaconda3\\lib\\site-packages\\sklearn\\model_selection\\_split.py:1978: FutureWarning: The default value of cv will change from 3 to 5 in version 0.22. Specify it explicitly to silence this warning.\n",
      "  warnings.warn(CV_WARNING, FutureWarning)\n"
     ]
    },
    {
     "name": "stdout",
     "output_type": "stream",
     "text": [
      "Best Score:  0.8815\n",
      "Best Params:  {'n_estimators': 60, 'min_samples_split': 2, 'min_samples_leaf': 1, 'max_features': 'sqrt', 'max_depth': None, 'bootstrap': False}\n"
     ]
    }
   ],
   "source": [
    "from sklearn.ensemble import RandomForestClassifier\n",
    "from sklearn.model_selection import RandomizedSearchCV\n",
    "grid_params ={\n",
    " 'bootstrap': [True, False],\n",
    " 'max_depth': [10, 20, None],\n",
    " 'max_features': ['auto', 'sqrt'],\n",
    " 'min_samples_leaf': [1, 2, 4],\n",
    " 'min_samples_split': [2, 5, 10],\n",
    " 'n_estimators': [100, 50, 60, 70, 80,90]\n",
    "}\n",
    "\n",
    "clf = RandomizedSearchCV(RandomForestClassifier(), grid_params)\n",
    "clf.fit(xtrain_tfidf, train_y)\n",
    "print(\"Best Score: \", clf.best_score_)\n",
    "print(\"Best Params: \", clf.best_params_)"
   ]
  },
  {
   "cell_type": "code",
   "execution_count": 23,
   "metadata": {},
   "outputs": [
    {
     "data": {
      "text/plain": [
       "RandomForestClassifier(bootstrap=False, class_weight=None, criterion='gini',\n",
       "                       max_depth=None, max_features='auto', max_leaf_nodes=None,\n",
       "                       min_impurity_decrease=0.0, min_impurity_split=None,\n",
       "                       min_samples_leaf=2, min_samples_split=2,\n",
       "                       min_weight_fraction_leaf=0.0, n_estimators=50,\n",
       "                       n_jobs=None, oob_score=False, random_state=42, verbose=0,\n",
       "                       warm_start=False)"
      ]
     },
     "execution_count": 23,
     "metadata": {},
     "output_type": "execute_result"
    }
   ],
   "source": [
    "# Trying above params on Random Forest (Bagging Model): Word-Level n-gram TF-IDF\n",
    "from sklearn.ensemble import RandomForestClassifier\n",
    "RandomForestClassifier=RandomForestClassifier(n_estimators= 50, \n",
    "                                              min_samples_split= 2, \n",
    "                                              min_samples_leaf= 2, \n",
    "                                              max_features= 'auto', \n",
    "                                              max_depth= None, \n",
    "                                              bootstrap= False,random_state = 42)\n",
    "RandomForestClassifier.fit(xtrain_tfidf,train_y)"
   ]
  },
  {
   "cell_type": "markdown",
   "metadata": {},
   "source": [
    "## Metrics"
   ]
  },
  {
   "cell_type": "code",
   "execution_count": 24,
   "metadata": {},
   "outputs": [
    {
     "name": "stdout",
     "output_type": "stream",
     "text": [
      "               classification_report\n",
      "               precision    recall  f1-score   support\n",
      "\n",
      "           0       1.00      0.96      0.98        90\n",
      "           1       0.92      0.81      0.86       167\n",
      "           2       0.99      0.76      0.86       161\n",
      "           3       0.65      0.96      0.78       168\n",
      "           4       0.99      0.98      0.99       153\n",
      "           5       0.99      0.84      0.91       101\n",
      "           6       0.99      0.99      0.99       160\n",
      "\n",
      "    accuracy                           0.90      1000\n",
      "   macro avg       0.94      0.90      0.91      1000\n",
      "weighted avg       0.92      0.90      0.90      1000\n",
      "\n"
     ]
    }
   ],
   "source": [
    "pred_y1 = RandomForestClassifier.predict(xtest_tfidf)\n",
    "print('               classification_report\\n',classification_report(test_y, pred_y1))"
   ]
  },
  {
   "cell_type": "code",
   "execution_count": 35,
   "metadata": {},
   "outputs": [
    {
     "data": {
      "image/png": "[encoded data removed]",
      "text/plain": [
       "<Figure size 720x576 with 2 Axes>"
      ]
     },
     "metadata": {
      "needs_background": "light"
     },
     "output_type": "display_data"
    }
   ],
   "source": [
    "matrix = confusion_matrix(test_y, pred_y1)\n",
    "fig, ax = plt.subplots(figsize=(10,8))\n",
    "\n",
    "sns.heatmap(matrix, annot=True, fmt='d', cmap=plt.cm.Blues, xticklabels = topics, yticklabels = topics)\n",
    "plt.ylabel('Actual', rotation = 90)\n",
    "plt.xlabel('Predicted')\n",
    "plt.title(\"CONFUSION MATRIX RF\")\n",
    "plt.show()"
   ]
  },
  {
   "cell_type": "markdown",
   "metadata": {},
   "source": [
    "<a href= \"#A4.-Customer-Service-Query-Classification\">Back to Top</a>"
   ]
  },
  {
   "cell_type": "markdown",
   "metadata": {},
   "source": [
    "## 8. Neural Network Classifier"
   ]
  },
  {
   "cell_type": "code",
   "execution_count": 26,
   "metadata": {},
   "outputs": [],
   "source": [
    "from sklearn.decomposition import TruncatedSVD\n",
    "svd = TruncatedSVD(n_components = 500, n_iter = 7, random_state = 42)\n",
    "X_train_nn=svd.fit_transform(xtrain_tfidf)\n",
    "X_test_nn=svd.transform(xtest_tfidf)"
   ]
  },
  {
   "cell_type": "code",
   "execution_count": 27,
   "metadata": {},
   "outputs": [],
   "source": [
    "from sklearn.datasets import fetch_20newsgroups\n",
    "from keras.layers import  Dropout, Dense\n",
    "from keras.models import Sequential\n",
    "from sklearn import metrics\n",
    "def DNN(shape, nClasses):\n",
    "    model = Sequential()\n",
    "    node = 512 # number of nodes\n",
    "    nLayers = 4 # number of  hidden layer\n",
    "    dropout = 0.25\n",
    "    model.add(Dense(node,input_dim=shape,activation='relu'))\n",
    "    model.add(Dropout(dropout))\n",
    "    for i in range(0,nLayers):\n",
    "        model.add(Dense(node,input_dim=node,activation='relu'))\n",
    "        model.add(Dropout(dropout))\n",
    "    model.add(Dense(nClasses, activation='softmax'))\n",
    "    model.compile(loss='sparse_categorical_crossentropy', optimizer='adam', metrics=['accuracy'])\n",
    "    return model"
   ]
  },
  {
   "cell_type": "code",
   "execution_count": 28,
   "metadata": {},
   "outputs": [
    {
     "name": "stdout",
     "output_type": "stream",
     "text": [
      "Train on 3200 samples, validate on 800 samples\n",
      "Epoch 1/10\n",
      " - 2s - loss: 1.4130 - accuracy: 0.4178 - val_loss: 0.8011 - val_accuracy: 0.6525\n",
      "Epoch 2/10\n",
      " - 2s - loss: 0.5200 - accuracy: 0.7781 - val_loss: 0.3985 - val_accuracy: 0.8438\n",
      "Epoch 3/10\n",
      " - 2s - loss: 0.2957 - accuracy: 0.8834 - val_loss: 0.3146 - val_accuracy: 0.8813\n",
      "Epoch 4/10\n",
      " - 2s - loss: 0.2429 - accuracy: 0.9097 - val_loss: 0.3045 - val_accuracy: 0.8850\n",
      "Epoch 5/10\n",
      " - 2s - loss: 0.2229 - accuracy: 0.9100 - val_loss: 0.2829 - val_accuracy: 0.8963\n",
      "Epoch 6/10\n",
      " - 2s - loss: 0.1984 - accuracy: 0.9241 - val_loss: 0.2774 - val_accuracy: 0.9000\n",
      "Epoch 7/10\n",
      " - 2s - loss: 0.1841 - accuracy: 0.9284 - val_loss: 0.2785 - val_accuracy: 0.9137\n",
      "Epoch 8/10\n",
      " - 2s - loss: 0.1476 - accuracy: 0.9431 - val_loss: 0.2479 - val_accuracy: 0.9175\n",
      "Epoch 9/10\n",
      " - 2s - loss: 0.1573 - accuracy: 0.9419 - val_loss: 0.3010 - val_accuracy: 0.9075\n",
      "Epoch 10/10\n",
      " - 2s - loss: 0.1985 - accuracy: 0.9303 - val_loss: 0.3793 - val_accuracy: 0.9075\n"
     ]
    },
    {
     "data": {
      "text/plain": [
       "<keras.callbacks.callbacks.History at 0x19792a2aa88>"
      ]
     },
     "execution_count": 28,
     "metadata": {},
     "output_type": "execute_result"
    }
   ],
   "source": [
    "model_DNN = DNN(X_train_nn.shape[1], 7)\n",
    "model_DNN.fit(X_train_nn, train_y,\n",
    "                              validation_split=0.2,\n",
    "                              epochs=10,\n",
    "                              batch_size=32,\n",
    "                              verbose=2)"
   ]
  },
  {
   "cell_type": "code",
   "execution_count": 32,
   "metadata": {},
   "outputs": [],
   "source": [
    "pred_y2 = model_DNN.predict_classes(X_test_nn)"
   ]
  },
  {
   "cell_type": "markdown",
   "metadata": {},
   "source": [
    "## Metrics"
   ]
  },
  {
   "cell_type": "code",
   "execution_count": 33,
   "metadata": {},
   "outputs": [
    {
     "name": "stdout",
     "output_type": "stream",
     "text": [
      "               classification_report\n",
      "               precision    recall  f1-score   support\n",
      "\n",
      "           0       1.00      0.94      0.97        90\n",
      "           1       0.74      0.95      0.83       167\n",
      "           2       0.85      0.75      0.79       161\n",
      "           3       0.83      0.77      0.80       168\n",
      "           4       0.99      0.99      0.99       153\n",
      "           5       0.98      0.87      0.92       101\n",
      "           6       0.98      0.98      0.98       160\n",
      "\n",
      "    accuracy                           0.89      1000\n",
      "   macro avg       0.91      0.89      0.90      1000\n",
      "weighted avg       0.90      0.89      0.89      1000\n",
      "\n"
     ]
    }
   ],
   "source": [
    "print('               classification_report\\n',classification_report(test_y, pred_y2))"
   ]
  },
  {
   "cell_type": "code",
   "execution_count": 36,
   "metadata": {},
   "outputs": [
    {
     "data": {
      "image/png": "[encoded data removed]",
      "text/plain": [
       "<Figure size 720x576 with 2 Axes>"
      ]
     },
     "metadata": {
      "needs_background": "light"
     },
     "output_type": "display_data"
    }
   ],
   "source": [
    "matrix = confusion_matrix(test_y, pred_y2)\n",
    "fig, ax = plt.subplots(figsize=(10,8))\n",
    "\n",
    "sns.heatmap(matrix, annot=True, fmt='d', cmap=plt.cm.Blues, xticklabels = topics, yticklabels = topics)\n",
    "plt.ylabel('Actual', rotation = 90)\n",
    "plt.xlabel('Predicted')\n",
    "plt.title(\"CONFUSION MATRIX DNN\")\n",
    "plt.show()"
   ]
  },
  {
   "cell_type": "markdown",
   "metadata": {},
   "source": [
    "## Comparision on above 3 metrics"
   ]
  },
  {
   "cell_type": "code",
   "execution_count": 37,
   "metadata": {},
   "outputs": [
    {
     "name": "stdout",
     "output_type": "stream",
     "text": [
      "          NB     classification_report\n",
      "               precision    recall  f1-score   support\n",
      "\n",
      "           0       1.00      0.97      0.98        90\n",
      "           1       0.86      0.95      0.90       167\n",
      "           2       0.94      0.84      0.89       161\n",
      "           3       0.85      0.88      0.87       168\n",
      "           4       0.96      0.99      0.98       153\n",
      "           5       1.00      0.90      0.95       101\n",
      "           6       0.98      0.99      0.98       160\n",
      "\n",
      "    accuracy                           0.93      1000\n",
      "   macro avg       0.94      0.93      0.94      1000\n",
      "weighted avg       0.93      0.93      0.93      1000\n",
      "\n",
      "          RF     classification_report\n",
      "               precision    recall  f1-score   support\n",
      "\n",
      "           0       1.00      0.96      0.98        90\n",
      "           1       0.92      0.81      0.86       167\n",
      "           2       0.99      0.76      0.86       161\n",
      "           3       0.65      0.96      0.78       168\n",
      "           4       0.99      0.98      0.99       153\n",
      "           5       0.99      0.84      0.91       101\n",
      "           6       0.99      0.99      0.99       160\n",
      "\n",
      "    accuracy                           0.90      1000\n",
      "   macro avg       0.94      0.90      0.91      1000\n",
      "weighted avg       0.92      0.90      0.90      1000\n",
      "\n",
      "          NN     classification_report\n",
      "               precision    recall  f1-score   support\n",
      "\n",
      "           0       1.00      0.94      0.97        90\n",
      "           1       0.74      0.95      0.83       167\n",
      "           2       0.85      0.75      0.79       161\n",
      "           3       0.83      0.77      0.80       168\n",
      "           4       0.99      0.99      0.99       153\n",
      "           5       0.98      0.87      0.92       101\n",
      "           6       0.98      0.98      0.98       160\n",
      "\n",
      "    accuracy                           0.89      1000\n",
      "   macro avg       0.91      0.89      0.90      1000\n",
      "weighted avg       0.90      0.89      0.89      1000\n",
      "\n"
     ]
    }
   ],
   "source": [
    "print('          NB     classification_report\\n',classification_report(test_y, pred_y))\n",
    "print('          RF     classification_report\\n',classification_report(test_y, pred_y1))\n",
    "print('          NN     classification_report\\n',classification_report(test_y, pred_y2))"
   ]
  },
  {
   "cell_type": "code",
   "execution_count": null,
   "metadata": {},
   "outputs": [],
   "source": [
    "#High accuracy, precision & recall is achieved by MultinomialNB. Let's carry out an out of sample test and confirm."
   ]
  },
  {
   "cell_type": "markdown",
   "metadata": {},
   "source": [
    "<a href= \"#A4.-Customer-Service-Query-Classification\">Back to Top</a>"
   ]
  },
  {
   "cell_type": "markdown",
   "metadata": {},
   "source": [
    "## 9. Out of Sample Test"
   ]
  },
  {
   "cell_type": "code",
   "execution_count": 68,
   "metadata": {},
   "outputs": [],
   "source": [
    "text = [\"I am so upset with this product I want full refund\"]\n",
    "text_tfidf = tfidf_vect.transform(text)\n",
    "NB_Pred = MultinomialNB.predict(text_tfidf)\n",
    "RF_Pred = RandomForestClassifier.predict(text_tfidf)\n",
    "DNN_Pred = model_DNN.predict_classes(svd.transform(text_tfidf))"
   ]
  },
  {
   "cell_type": "code",
   "execution_count": 69,
   "metadata": {},
   "outputs": [
    {
     "data": {
      "text/plain": [
       "array(['Omnichannel', 'Product Availability', 'Product Comparison',\n",
       "       'Product Specifications', 'Returns & Refunds', 'Sales/Promotions',\n",
       "       'Shipping'], dtype=object)"
      ]
     },
     "execution_count": 69,
     "metadata": {},
     "output_type": "execute_result"
    }
   ],
   "source": [
    "topics"
   ]
  },
  {
   "cell_type": "code",
   "execution_count": 70,
   "metadata": {
    "scrolled": true
   },
   "outputs": [
    {
     "name": "stdout",
     "output_type": "stream",
     "text": [
      "Naivebayes outcome : Returns & Refunds\n",
      "Random Forest outcome : Product Specifications\n",
      "Neural network outcome : Returns & Refunds\n"
     ]
    }
   ],
   "source": [
    "print('Naivebayes outcome :',topics[NB_Pred[0]])\n",
    "print('Random Forest outcome :',topics[RF_Pred[0]])\n",
    "print('Neural network outcome :',topics[DNN_Pred[0]])"
   ]
  },
  {
   "cell_type": "code",
   "execution_count": 71,
   "metadata": {},
   "outputs": [],
   "source": [
    "#Random Forest couldn't predict even when I clearly mentioned the word 'refund'. \n",
    "#I'm thinking of a way to add topic names to BOW and have more more weight to them. \n",
    "#That way atleast the input containing clear mention would be predicted correctly. "
   ]
  },
  {
   "cell_type": "markdown",
   "metadata": {},
   "source": [
    "# <center>THANK YOU</center> "
   ]
  },
  {
   "cell_type": "markdown",
   "metadata": {},
   "source": [
    "## Failed wandb implementation for tuning Hyperparameters"
   ]
  },
  {
   "cell_type": "code",
   "execution_count": 80,
   "metadata": {},
   "outputs": [
    {
     "data": {
      "text/plain": [
       "True"
      ]
     },
     "execution_count": 80,
     "metadata": {},
     "output_type": "execute_result"
    }
   ],
   "source": [
    "import wandb\n",
    "wandb.login()  #it asks to enter API but I've previously entered it"
   ]
  },
  {
   "cell_type": "code",
   "execution_count": 81,
   "metadata": {},
   "outputs": [],
   "source": [
    "#defining sweep \n",
    "\n",
    "sweep_config = {\n",
    "    'method': 'random'\n",
    "    }"
   ]
  },
  {
   "cell_type": "code",
   "execution_count": 82,
   "metadata": {},
   "outputs": [],
   "source": [
    "metric = {\n",
    "    'name': 'loss',\n",
    "    'goal': 'minimize'   \n",
    "    }\n",
    "\n",
    "sweep_config['metric'] = metric"
   ]
  },
  {
   "cell_type": "code",
   "execution_count": 83,
   "metadata": {},
   "outputs": [],
   "source": [
    "parameters_dict = {\n",
    "    'optimizer': {\n",
    "        'values': ['adam', 'sgd']\n",
    "        },\n",
    "    'fc_layer_size': {\n",
    "        'values': [128, 256, 512]\n",
    "        },\n",
    "    'dropout': {\n",
    "          'values': [0.3, 0.4, 0.5]\n",
    "        },\n",
    "    }\n",
    "\n",
    "sweep_config['parameters'] = parameters_dict"
   ]
  },
  {
   "cell_type": "code",
   "execution_count": 84,
   "metadata": {},
   "outputs": [],
   "source": [
    "parameters_dict.update({\n",
    "    'epochs': {\n",
    "        'value': 1}\n",
    "    })"
   ]
  },
  {
   "cell_type": "code",
   "execution_count": 85,
   "metadata": {},
   "outputs": [],
   "source": [
    "import math\n",
    "\n",
    "parameters_dict.update({\n",
    "    'learning_rate': {\n",
    "        # a flat distribution between 0 and 0.1\n",
    "        'distribution': 'uniform',\n",
    "        'min': 0,\n",
    "        'max': 0.1\n",
    "      },\n",
    "    'batch_size': {\n",
    "        # integers between 32 and 256\n",
    "        # with evenly-distributed logarithms \n",
    "        'distribution': 'q_log_uniform',\n",
    "        'q': 1,\n",
    "        'min': math.log(32),\n",
    "        'max': math.log(256),\n",
    "      }\n",
    "    })"
   ]
  },
  {
   "cell_type": "code",
   "execution_count": 86,
   "metadata": {},
   "outputs": [
    {
     "name": "stdout",
     "output_type": "stream",
     "text": [
      "{'method': 'random',\n",
      " 'metric': {'goal': 'minimize', 'name': 'loss'},\n",
      " 'parameters': {'batch_size': {'distribution': 'q_log_uniform',\n",
      "                               'max': 5.545177444479562,\n",
      "                               'min': 3.4657359027997265,\n",
      "                               'q': 1},\n",
      "                'dropout': {'values': [0.3, 0.4, 0.5]},\n",
      "                'epochs': {'value': 1},\n",
      "                'fc_layer_size': {'values': [128, 256, 512]},\n",
      "                'learning_rate': {'distribution': 'uniform',\n",
      "                                  'max': 0.1,\n",
      "                                  'min': 0},\n",
      "                'optimizer': {'values': ['adam', 'sgd']}}}\n"
     ]
    }
   ],
   "source": [
    "import pprint\n",
    "\n",
    "pprint.pprint(sweep_config)"
   ]
  },
  {
   "cell_type": "code",
   "execution_count": 87,
   "metadata": {},
   "outputs": [
    {
     "name": "stdout",
     "output_type": "stream",
     "text": [
      "Create sweep with ID: wv3asgka\n",
      "Sweep URL: https://wandb.ai/samratkorupolu/trying-sweeps/sweeps/wv3asgka\n"
     ]
    }
   ],
   "source": [
    "#Initialize the sweep\n",
    "\n",
    "sweep_id = wandb.sweep(sweep_config, project=\"trying-sweeps\")"
   ]
  },
  {
   "cell_type": "markdown",
   "metadata": {},
   "source": [
    "https://wandb.ai/samratkorupolu/pytorch-sweeps-demo/sweeps/t3bos2y3?workspace=user-samratkorupolu"
   ]
  },
  {
   "cell_type": "code",
   "execution_count": null,
   "metadata": {},
   "outputs": [],
   "source": [
    "#I haven't read full documentation of WandB but it's a really cool way of looking what's happening inside hidden layers"
   ]
  },
  {
   "cell_type": "markdown",
   "metadata": {},
   "source": [
    "<a href= \"#A4.-Customer-Service-Query-Classification\">Back to Top</a>"
   ]
  }
 ],
 "metadata": {
  "kernelspec": {
   "display_name": "Python 3",
   "language": "python",
   "name": "python3"
  },
  "language_info": {
   "codemirror_mode": {
    "name": "ipython",
    "version": 3
   },
   "file_extension": ".py",
   "mimetype": "text/x-python",
   "name": "python",
   "nbconvert_exporter": "python",
   "pygments_lexer": "ipython3",
   "version": "3.7.4"
  }
 },
 "nbformat": 4,
 "nbformat_minor": 2
}
